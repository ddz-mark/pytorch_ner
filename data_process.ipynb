{
 "cells": [
  {
   "cell_type": "markdown",
   "metadata": {},
   "source": [
    "# 导库"
   ]
  },
  {
   "cell_type": "code",
   "execution_count": 4,
   "metadata": {
    "ExecuteTime": {
     "end_time": "2020-06-26T08:46:50.524092Z",
     "start_time": "2020-06-26T08:46:50.132109Z"
    },
    "collapsed": true
   },
   "outputs": [],
   "source": [
    "from os.path import join\n",
    "from codecs import open\n",
    "\n",
    "import numpy as np\n",
    "import pandas as pd\n"
   ]
  },
  {
   "cell_type": "markdown",
   "metadata": {},
   "source": [
    "# 数据预处理：index 形式"
   ]
  },
  {
   "cell_type": "code",
   "execution_count": 5,
   "metadata": {
    "ExecuteTime": {
     "end_time": "2020-06-26T08:46:50.967214Z",
     "start_time": "2020-06-26T08:46:50.917102Z"
    },
    "collapsed": true
   },
   "outputs": [],
   "source": [
    "def read_corpus(split, data_dir=\"./ResumeNER\"):\n",
    "    \"\"\"文件读取\"\"\"\n",
    "    word_lists = []\n",
    "    tag_lists = []\n",
    "    with open(join(data_dir, split+\".char.bmes\"), 'r', encoding='utf-8') as f:\n",
    "        word_list = []\n",
    "        tag_list = []\n",
    "        for line in f:\n",
    "            if line != '\\n':\n",
    "                word, tag = line.strip('\\n').split()\n",
    "                word_list.append(word)\n",
    "                tag_list.append(tag)\n",
    "            else:\n",
    "                word_lists.append(word_list)\n",
    "                tag_lists.append(tag_list)\n",
    "                word_list = []\n",
    "                tag_list = []\n",
    "    return word_lists, tag_lists\n",
    "    \n",
    "\n",
    "def build_map(lists):\n",
    "    \"\"\"构建词表\"\"\"\n",
    "    maps = {}\n",
    "    for list_ in lists:\n",
    "        for e in list_:\n",
    "            if e not in maps:\n",
    "                maps[e] = len(maps)\n",
    "\n",
    "    return maps \n",
    "\n",
    "\n",
    "def build_index(lists, vocabs):\n",
    "    \"\"\"构建索引\"\"\"\n",
    "    word_index_lists = []\n",
    "    for list_ in lists:\n",
    "        word_index_list = []\n",
    "        for e in list_:\n",
    "            word_index_list.append(vocabs.get(e))\n",
    "        word_index_lists.append(word_index_list)\n",
    "    return word_index_lists"
   ]
  },
  {
   "cell_type": "code",
   "execution_count": 6,
   "metadata": {
    "ExecuteTime": {
     "end_time": "2020-06-26T08:46:52.157292Z",
     "start_time": "2020-06-26T08:46:51.745062Z"
    }
   },
   "outputs": [
    {
     "name": "stdout",
     "output_type": "stream",
     "text": [
      "3821 3821\n",
      "463 463\n",
      "477 477\n",
      "4761 4761\n"
     ]
    }
   ],
   "source": [
    "# 获取文件的数据和标签\n",
    "train_word_lists, train_tag_lists = read_corpus('train')\n",
    "print(len(train_word_lists), len(train_tag_lists))\n",
    "dev_word_lists, dev_tag_lists = read_corpus('dev')\n",
    "print(len(dev_word_lists), len(dev_tag_lists))\n",
    "test_word_lists, test_tag_lists = read_corpus('test')\n",
    "print(len(test_word_lists), len(test_tag_lists))\n",
    "\n",
    "word_lists = train_word_lists + dev_word_lists + test_word_lists\n",
    "tag_lists = train_tag_lists + dev_tag_lists + test_tag_lists\n",
    "\n",
    "print(len(word_lists), len(tag_lists))"
   ]
  },
  {
   "cell_type": "code",
   "execution_count": 10,
   "metadata": {
    "ExecuteTime": {
     "end_time": "2020-06-26T08:52:47.396246Z",
     "start_time": "2020-06-26T08:52:47.360466Z"
    }
   },
   "outputs": [
    {
     "name": "stdout",
     "output_type": "stream",
     "text": [
      "1902 28\n",
      "{'B-NAME': 0, 'E-NAME': 1, 'O': 2, 'B-CONT': 3, 'M-CONT': 4, 'E-CONT': 5, 'B-RACE': 6, 'E-RACE': 7, 'B-TITLE': 8, 'M-TITLE': 9, 'E-TITLE': 10, 'B-EDU': 11, 'M-EDU': 12, 'E-EDU': 13, 'B-ORG': 14, 'M-ORG': 15, 'E-ORG': 16, 'M-NAME': 17, 'B-PRO': 18, 'M-PRO': 19, 'E-PRO': 20, 'S-RACE': 21, 'S-NAME': 22, 'B-LOC': 23, 'M-LOC': 24, 'E-LOC': 25, 'M-RACE': 26, 'S-ORG': 27}\n"
     ]
    }
   ],
   "source": [
    "# 生成词典\n",
    "import json\n",
    "word_vocab = build_map(word_lists)\n",
    "tag_vocab = build_map(tag_lists)\n",
    "\n",
    "print(len(word_vocab), len(tag_vocab))\n",
    "print(tag_vocab)\n",
    "\n",
    "with open('./ResumeNER/word2id.json', 'w') as f:\n",
    "    json.dump(word_vocab, f)\n",
    "with open('./ResumeNER/tag2id.json', 'w') as f:\n",
    "    json.dump(tag_vocab, f)"
   ]
  },
  {
   "cell_type": "code",
   "execution_count": 13,
   "metadata": {
    "ExecuteTime": {
     "end_time": "2020-06-22T14:18:34.182812Z",
     "start_time": "2020-06-22T14:18:34.072502Z"
    }
   },
   "outputs": [
    {
     "name": "stdout",
     "output_type": "stream",
     "text": [
      "train: 3821 3821 3821 3821\n",
      "dev: 463 463 463 463\n",
      "test: 477 477 477 477\n"
     ]
    }
   ],
   "source": [
    "train_word_index_lists = build_index(train_word_lists, word_vocab)\n",
    "train_tag_index_lists = build_index(train_tag_lists, tag_vocab)\n",
    "\n",
    "dev_word_index_lists = build_index(dev_word_lists, word_vocab)\n",
    "dev_tag_index_lists = build_index(dev_tag_lists, tag_vocab)\n",
    "\n",
    "test_word_index_lists = build_index(test_word_lists, word_vocab)\n",
    "test_tag_index_lists = build_index(test_tag_lists, tag_vocab)\n",
    "\n",
    "print('train:', len(train_word_lists), len(train_word_index_lists), len(train_tag_lists), len(train_tag_index_lists))\n",
    "print('dev:', len(dev_word_lists), len(dev_word_index_lists), len(dev_tag_lists), len(dev_tag_index_lists))\n",
    "print('test:', len(test_word_lists), len(test_word_index_lists), len(test_tag_lists), len(test_tag_index_lists))\n",
    "\n"
   ]
  },
  {
   "cell_type": "code",
   "execution_count": 17,
   "metadata": {
    "ExecuteTime": {
     "end_time": "2020-06-22T14:22:37.398650Z",
     "start_time": "2020-06-22T14:22:37.178159Z"
    }
   },
   "outputs": [
    {
     "data": {
      "text/html": [
       "<div>\n",
       "<style scoped>\n",
       "    .dataframe tbody tr th:only-of-type {\n",
       "        vertical-align: middle;\n",
       "    }\n",
       "\n",
       "    .dataframe tbody tr th {\n",
       "        vertical-align: top;\n",
       "    }\n",
       "\n",
       "    .dataframe thead th {\n",
       "        text-align: right;\n",
       "    }\n",
       "</style>\n",
       "<table border=\"1\" class=\"dataframe\">\n",
       "  <thead>\n",
       "    <tr style=\"text-align: right;\">\n",
       "      <th></th>\n",
       "      <th>words</th>\n",
       "      <th>words_index</th>\n",
       "      <th>tags</th>\n",
       "      <th>tags_index</th>\n",
       "    </tr>\n",
       "  </thead>\n",
       "  <tbody>\n",
       "    <tr>\n",
       "      <th>0</th>\n",
       "      <td>[高, 勇, ：, 男, ，, 中, 国, 国, 籍, ，, 无, 境, 外, 居, 留, ...</td>\n",
       "      <td>[0, 1, 2, 3, 4, 5, 6, 6, 7, 4, 8, 9, 10, 11, 1...</td>\n",
       "      <td>[B-NAME, E-NAME, O, O, O, B-CONT, M-CONT, M-CO...</td>\n",
       "      <td>[0, 1, 2, 2, 2, 3, 4, 4, 5, 2, 2, 2, 2, 2, 2, ...</td>\n",
       "    </tr>\n",
       "    <tr>\n",
       "      <th>1</th>\n",
       "      <td>[1, 9, 6, 6, 年, 出, 生, ，, 汉, 族, ，, 中, 共, 党, 员, ...</td>\n",
       "      <td>[14, 15, 16, 16, 17, 18, 19, 4, 20, 21, 4, 5, ...</td>\n",
       "      <td>[O, O, O, O, O, O, O, O, B-RACE, E-RACE, O, B-...</td>\n",
       "      <td>[2, 2, 2, 2, 2, 2, 2, 2, 6, 7, 2, 8, 9, 9, 10,...</td>\n",
       "    </tr>\n",
       "    <tr>\n",
       "      <th>2</th>\n",
       "      <td>[2, 0, 0, 7, 年, 1, 0, 月, 至, 今, 任, 人, 和, 投, 资, ...</td>\n",
       "      <td>[55, 56, 56, 57, 17, 14, 56, 58, 59, 60, 61, 6...</td>\n",
       "      <td>[O, O, O, O, O, O, O, O, O, O, O, B-ORG, M-ORG...</td>\n",
       "      <td>[2, 2, 2, 2, 2, 2, 2, 2, 2, 2, 2, 14, 15, 15, ...</td>\n",
       "    </tr>\n",
       "    <tr>\n",
       "      <th>3</th>\n",
       "      <td>[2, 0, 0, 7, 年, 1, 2, 月, 至, 2, 0, 1, 3, 年, 2, ...</td>\n",
       "      <td>[55, 56, 56, 57, 17, 14, 55, 58, 59, 55, 56, 1...</td>\n",
       "      <td>[O, O, O, O, O, O, O, O, O, O, O, O, O, O, O, ...</td>\n",
       "      <td>[2, 2, 2, 2, 2, 2, 2, 2, 2, 2, 2, 2, 2, 2, 2, ...</td>\n",
       "    </tr>\n",
       "    <tr>\n",
       "      <th>4</th>\n",
       "      <td>[2, 0, 1, 3, 年, 2, 月, 至, 今, 任, 山, 东, 三, 维, 石, ...</td>\n",
       "      <td>[55, 56, 14, 69, 17, 55, 58, 59, 60, 61, 78, 7...</td>\n",
       "      <td>[O, O, O, O, O, O, O, O, O, O, B-ORG, M-ORG, M...</td>\n",
       "      <td>[2, 2, 2, 2, 2, 2, 2, 2, 2, 2, 14, 15, 15, 15,...</td>\n",
       "    </tr>\n",
       "  </tbody>\n",
       "</table>\n",
       "</div>"
      ],
      "text/plain": [
       "                                               words  \\\n",
       "0  [高, 勇, ：, 男, ，, 中, 国, 国, 籍, ，, 无, 境, 外, 居, 留, ...   \n",
       "1  [1, 9, 6, 6, 年, 出, 生, ，, 汉, 族, ，, 中, 共, 党, 员, ...   \n",
       "2  [2, 0, 0, 7, 年, 1, 0, 月, 至, 今, 任, 人, 和, 投, 资, ...   \n",
       "3  [2, 0, 0, 7, 年, 1, 2, 月, 至, 2, 0, 1, 3, 年, 2, ...   \n",
       "4  [2, 0, 1, 3, 年, 2, 月, 至, 今, 任, 山, 东, 三, 维, 石, ...   \n",
       "\n",
       "                                         words_index  \\\n",
       "0  [0, 1, 2, 3, 4, 5, 6, 6, 7, 4, 8, 9, 10, 11, 1...   \n",
       "1  [14, 15, 16, 16, 17, 18, 19, 4, 20, 21, 4, 5, ...   \n",
       "2  [55, 56, 56, 57, 17, 14, 56, 58, 59, 60, 61, 6...   \n",
       "3  [55, 56, 56, 57, 17, 14, 55, 58, 59, 55, 56, 1...   \n",
       "4  [55, 56, 14, 69, 17, 55, 58, 59, 60, 61, 78, 7...   \n",
       "\n",
       "                                                tags  \\\n",
       "0  [B-NAME, E-NAME, O, O, O, B-CONT, M-CONT, M-CO...   \n",
       "1  [O, O, O, O, O, O, O, O, B-RACE, E-RACE, O, B-...   \n",
       "2  [O, O, O, O, O, O, O, O, O, O, O, B-ORG, M-ORG...   \n",
       "3  [O, O, O, O, O, O, O, O, O, O, O, O, O, O, O, ...   \n",
       "4  [O, O, O, O, O, O, O, O, O, O, B-ORG, M-ORG, M...   \n",
       "\n",
       "                                          tags_index  \n",
       "0  [0, 1, 2, 2, 2, 3, 4, 4, 5, 2, 2, 2, 2, 2, 2, ...  \n",
       "1  [2, 2, 2, 2, 2, 2, 2, 2, 6, 7, 2, 8, 9, 9, 10,...  \n",
       "2  [2, 2, 2, 2, 2, 2, 2, 2, 2, 2, 2, 14, 15, 15, ...  \n",
       "3  [2, 2, 2, 2, 2, 2, 2, 2, 2, 2, 2, 2, 2, 2, 2, ...  \n",
       "4  [2, 2, 2, 2, 2, 2, 2, 2, 2, 2, 14, 15, 15, 15,...  "
      ]
     },
     "execution_count": 17,
     "metadata": {},
     "output_type": "execute_result"
    }
   ],
   "source": [
    "df_train_data = pd.DataFrame({'words': train_word_lists, 'words_index': train_word_index_lists, \n",
    "                              'tags': train_tag_lists,\n",
    "                       'tags_index': train_tag_index_lists}, index=list(range(len(train_word_lists))))\n",
    "df_train_data.to_csv(\"./ResumeNER/df_train_data.csv\")\n",
    "df_train_data.head()"
   ]
  },
  {
   "cell_type": "code",
   "execution_count": 18,
   "metadata": {
    "ExecuteTime": {
     "end_time": "2020-06-22T14:24:05.491516Z",
     "start_time": "2020-06-22T14:24:05.419562Z"
    }
   },
   "outputs": [
    {
     "data": {
      "text/html": [
       "<div>\n",
       "<style scoped>\n",
       "    .dataframe tbody tr th:only-of-type {\n",
       "        vertical-align: middle;\n",
       "    }\n",
       "\n",
       "    .dataframe tbody tr th {\n",
       "        vertical-align: top;\n",
       "    }\n",
       "\n",
       "    .dataframe thead th {\n",
       "        text-align: right;\n",
       "    }\n",
       "</style>\n",
       "<table border=\"1\" class=\"dataframe\">\n",
       "  <thead>\n",
       "    <tr style=\"text-align: right;\">\n",
       "      <th></th>\n",
       "      <th>words</th>\n",
       "      <th>words_index</th>\n",
       "      <th>tags</th>\n",
       "      <th>tags_index</th>\n",
       "    </tr>\n",
       "  </thead>\n",
       "  <tbody>\n",
       "    <tr>\n",
       "      <th>0</th>\n",
       "      <td>[吴, 重, 阳, ，, 中, 国, 国, 籍, ，, 大, 学, 本, 科, ，, 教, ...</td>\n",
       "      <td>[344, 458, 533, 4, 5, 6, 6, 7, 4, 144, 27, 25,...</td>\n",
       "      <td>[B-NAME, M-NAME, E-NAME, O, B-CONT, M-CONT, M-...</td>\n",
       "      <td>[0, 17, 1, 2, 3, 4, 4, 5, 2, 11, 12, 12, 13, 2...</td>\n",
       "    </tr>\n",
       "    <tr>\n",
       "      <th>1</th>\n",
       "      <td>[历, 任, 公, 司, 副, 总, 经, 理, 、, 总, 工, 程, 师, ，]</td>\n",
       "      <td>[28, 61, 70, 71, 88, 89, 53, 37, 32, 89, 29, 3...</td>\n",
       "      <td>[O, O, B-ORG, E-ORG, B-TITLE, M-TITLE, M-TITLE...</td>\n",
       "      <td>[2, 2, 14, 16, 8, 9, 9, 10, 2, 8, 9, 9, 10, 2]</td>\n",
       "    </tr>\n",
       "    <tr>\n",
       "      <th>2</th>\n",
       "      <td>[2, 0, 0, 9, 年, 5, 月, 至, 今, ，, 受, 聘, 为, 公, 司, ...</td>\n",
       "      <td>[55, 56, 56, 15, 17, 93, 58, 59, 60, 4, 500, 8...</td>\n",
       "      <td>[O, O, O, O, O, O, O, O, O, O, O, O, O, B-ORG,...</td>\n",
       "      <td>[2, 2, 2, 2, 2, 2, 2, 2, 2, 2, 2, 2, 2, 14, 16...</td>\n",
       "    </tr>\n",
       "    <tr>\n",
       "      <th>3</th>\n",
       "      <td>[兼, 任, 中, 国, 科, 技, 会, 堂, 专, 家, 委, 员, 会, 专, 家, ...</td>\n",
       "      <td>[251, 61, 5, 6, 26, 123, 39, 1407, 51, 52, 316...</td>\n",
       "      <td>[O, O, B-ORG, M-ORG, M-ORG, M-ORG, M-ORG, E-OR...</td>\n",
       "      <td>[2, 2, 14, 15, 15, 15, 15, 16, 8, 9, 9, 9, 9, ...</td>\n",
       "    </tr>\n",
       "    <tr>\n",
       "      <th>4</th>\n",
       "      <td>[谢, 卫, 东, 先, 生, ：, 1, 9, 6, 6, 年, 1, 2, 月, 出, ...</td>\n",
       "      <td>[265, 559, 79, 140, 19, 2, 14, 15, 16, 16, 17,...</td>\n",
       "      <td>[B-NAME, M-NAME, E-NAME, O, O, O, O, O, O, O, ...</td>\n",
       "      <td>[0, 17, 1, 2, 2, 2, 2, 2, 2, 2, 2, 2, 2, 2, 2,...</td>\n",
       "    </tr>\n",
       "  </tbody>\n",
       "</table>\n",
       "</div>"
      ],
      "text/plain": [
       "                                               words  \\\n",
       "0  [吴, 重, 阳, ，, 中, 国, 国, 籍, ，, 大, 学, 本, 科, ，, 教, ...   \n",
       "1         [历, 任, 公, 司, 副, 总, 经, 理, 、, 总, 工, 程, 师, ，]   \n",
       "2  [2, 0, 0, 9, 年, 5, 月, 至, 今, ，, 受, 聘, 为, 公, 司, ...   \n",
       "3  [兼, 任, 中, 国, 科, 技, 会, 堂, 专, 家, 委, 员, 会, 专, 家, ...   \n",
       "4  [谢, 卫, 东, 先, 生, ：, 1, 9, 6, 6, 年, 1, 2, 月, 出, ...   \n",
       "\n",
       "                                         words_index  \\\n",
       "0  [344, 458, 533, 4, 5, 6, 6, 7, 4, 144, 27, 25,...   \n",
       "1  [28, 61, 70, 71, 88, 89, 53, 37, 32, 89, 29, 3...   \n",
       "2  [55, 56, 56, 15, 17, 93, 58, 59, 60, 4, 500, 8...   \n",
       "3  [251, 61, 5, 6, 26, 123, 39, 1407, 51, 52, 316...   \n",
       "4  [265, 559, 79, 140, 19, 2, 14, 15, 16, 16, 17,...   \n",
       "\n",
       "                                                tags  \\\n",
       "0  [B-NAME, M-NAME, E-NAME, O, B-CONT, M-CONT, M-...   \n",
       "1  [O, O, B-ORG, E-ORG, B-TITLE, M-TITLE, M-TITLE...   \n",
       "2  [O, O, O, O, O, O, O, O, O, O, O, O, O, B-ORG,...   \n",
       "3  [O, O, B-ORG, M-ORG, M-ORG, M-ORG, M-ORG, E-OR...   \n",
       "4  [B-NAME, M-NAME, E-NAME, O, O, O, O, O, O, O, ...   \n",
       "\n",
       "                                          tags_index  \n",
       "0  [0, 17, 1, 2, 3, 4, 4, 5, 2, 11, 12, 12, 13, 2...  \n",
       "1     [2, 2, 14, 16, 8, 9, 9, 10, 2, 8, 9, 9, 10, 2]  \n",
       "2  [2, 2, 2, 2, 2, 2, 2, 2, 2, 2, 2, 2, 2, 14, 16...  \n",
       "3  [2, 2, 14, 15, 15, 15, 15, 16, 8, 9, 9, 9, 9, ...  \n",
       "4  [0, 17, 1, 2, 2, 2, 2, 2, 2, 2, 2, 2, 2, 2, 2,...  "
      ]
     },
     "execution_count": 18,
     "metadata": {},
     "output_type": "execute_result"
    }
   ],
   "source": [
    "df_dev_data = pd.DataFrame({'words': dev_word_lists, 'words_index': dev_word_index_lists, \n",
    "                              'tags': dev_tag_lists,\n",
    "                       'tags_index': dev_tag_index_lists}, index=list(range(len(dev_word_lists))))\n",
    "df_dev_data.to_csv(\"./ResumeNER/df_dev_data.csv\")\n",
    "df_dev_data.head()"
   ]
  },
  {
   "cell_type": "code",
   "execution_count": 19,
   "metadata": {
    "ExecuteTime": {
     "end_time": "2020-06-22T14:24:37.536307Z",
     "start_time": "2020-06-22T14:24:37.453283Z"
    }
   },
   "outputs": [
    {
     "data": {
      "text/html": [
       "<div>\n",
       "<style scoped>\n",
       "    .dataframe tbody tr th:only-of-type {\n",
       "        vertical-align: middle;\n",
       "    }\n",
       "\n",
       "    .dataframe tbody tr th {\n",
       "        vertical-align: top;\n",
       "    }\n",
       "\n",
       "    .dataframe thead th {\n",
       "        text-align: right;\n",
       "    }\n",
       "</style>\n",
       "<table border=\"1\" class=\"dataframe\">\n",
       "  <thead>\n",
       "    <tr style=\"text-align: right;\">\n",
       "      <th></th>\n",
       "      <th>words</th>\n",
       "      <th>words_index</th>\n",
       "      <th>tags</th>\n",
       "      <th>tags_index</th>\n",
       "    </tr>\n",
       "  </thead>\n",
       "  <tbody>\n",
       "    <tr>\n",
       "      <th>0</th>\n",
       "      <td>[常, 建, 良, ，, 男, ，]</td>\n",
       "      <td>[232, 315, 1090, 4, 3, 4]</td>\n",
       "      <td>[B-NAME, M-NAME, E-NAME, O, O, O]</td>\n",
       "      <td>[0, 17, 1, 2, 2, 2]</td>\n",
       "    </tr>\n",
       "    <tr>\n",
       "      <th>1</th>\n",
       "      <td>[1, 9, 6, 3, 年, 出, 生, ，, 工, 科, 学, 士, ，, 高, 级, ...</td>\n",
       "      <td>[14, 15, 16, 69, 17, 18, 19, 4, 29, 26, 27, 10...</td>\n",
       "      <td>[O, O, O, O, O, O, O, O, B-PRO, E-PRO, B-EDU, ...</td>\n",
       "      <td>[2, 2, 2, 2, 2, 2, 2, 2, 18, 20, 11, 13, 2, 8,...</td>\n",
       "    </tr>\n",
       "    <tr>\n",
       "      <th>2</th>\n",
       "      <td>[1, 9, 8, 5, 年, 8, 月, —, 1, 9, 9, 3, 年, 在, 国, ...</td>\n",
       "      <td>[14, 15, 110, 93, 17, 110, 58, 1619, 14, 15, 1...</td>\n",
       "      <td>[O, O, O, O, O, O, O, O, O, O, O, O, O, O, B-O...</td>\n",
       "      <td>[2, 2, 2, 2, 2, 2, 2, 2, 2, 2, 2, 2, 2, 2, 14,...</td>\n",
       "    </tr>\n",
       "    <tr>\n",
       "      <th>3</th>\n",
       "      <td>[1, 9, 9, 3, 年, 5, 月, —, 1, 9, 9, 9, 年, 5, 月, ...</td>\n",
       "      <td>[14, 15, 15, 69, 17, 93, 58, 1619, 14, 15, 15,...</td>\n",
       "      <td>[O, O, O, O, O, O, O, O, O, O, O, O, O, O, O, ...</td>\n",
       "      <td>[2, 2, 2, 2, 2, 2, 2, 2, 2, 2, 2, 2, 2, 2, 2, ...</td>\n",
       "    </tr>\n",
       "    <tr>\n",
       "      <th>4</th>\n",
       "      <td>[1, 9, 9, 9, 年, 5, 月, —, 2, 0, 1, 0, 年, 4, 月, ...</td>\n",
       "      <td>[14, 15, 15, 15, 17, 93, 58, 1619, 55, 56, 14,...</td>\n",
       "      <td>[O, O, O, O, O, O, O, O, O, O, O, O, O, O, O, ...</td>\n",
       "      <td>[2, 2, 2, 2, 2, 2, 2, 2, 2, 2, 2, 2, 2, 2, 2, ...</td>\n",
       "    </tr>\n",
       "  </tbody>\n",
       "</table>\n",
       "</div>"
      ],
      "text/plain": [
       "                                               words  \\\n",
       "0                                 [常, 建, 良, ，, 男, ，]   \n",
       "1  [1, 9, 6, 3, 年, 出, 生, ，, 工, 科, 学, 士, ，, 高, 级, ...   \n",
       "2  [1, 9, 8, 5, 年, 8, 月, —, 1, 9, 9, 3, 年, 在, 国, ...   \n",
       "3  [1, 9, 9, 3, 年, 5, 月, —, 1, 9, 9, 9, 年, 5, 月, ...   \n",
       "4  [1, 9, 9, 9, 年, 5, 月, —, 2, 0, 1, 0, 年, 4, 月, ...   \n",
       "\n",
       "                                         words_index  \\\n",
       "0                          [232, 315, 1090, 4, 3, 4]   \n",
       "1  [14, 15, 16, 69, 17, 18, 19, 4, 29, 26, 27, 10...   \n",
       "2  [14, 15, 110, 93, 17, 110, 58, 1619, 14, 15, 1...   \n",
       "3  [14, 15, 15, 69, 17, 93, 58, 1619, 14, 15, 15,...   \n",
       "4  [14, 15, 15, 15, 17, 93, 58, 1619, 55, 56, 14,...   \n",
       "\n",
       "                                                tags  \\\n",
       "0                  [B-NAME, M-NAME, E-NAME, O, O, O]   \n",
       "1  [O, O, O, O, O, O, O, O, B-PRO, E-PRO, B-EDU, ...   \n",
       "2  [O, O, O, O, O, O, O, O, O, O, O, O, O, O, B-O...   \n",
       "3  [O, O, O, O, O, O, O, O, O, O, O, O, O, O, O, ...   \n",
       "4  [O, O, O, O, O, O, O, O, O, O, O, O, O, O, O, ...   \n",
       "\n",
       "                                          tags_index  \n",
       "0                                [0, 17, 1, 2, 2, 2]  \n",
       "1  [2, 2, 2, 2, 2, 2, 2, 2, 18, 20, 11, 13, 2, 8,...  \n",
       "2  [2, 2, 2, 2, 2, 2, 2, 2, 2, 2, 2, 2, 2, 2, 14,...  \n",
       "3  [2, 2, 2, 2, 2, 2, 2, 2, 2, 2, 2, 2, 2, 2, 2, ...  \n",
       "4  [2, 2, 2, 2, 2, 2, 2, 2, 2, 2, 2, 2, 2, 2, 2, ...  "
      ]
     },
     "execution_count": 19,
     "metadata": {},
     "output_type": "execute_result"
    }
   ],
   "source": [
    "df_test_data = pd.DataFrame({'words': test_word_lists, 'words_index': test_word_index_lists, \n",
    "                              'tags': test_tag_lists,\n",
    "                       'tags_index': test_tag_index_lists}, index=list(range(len(test_word_lists))))\n",
    "df_test_data.to_csv(\"./ResumeNER/df_test_data.csv\")\n",
    "df_test_data.head()"
   ]
  },
  {
   "cell_type": "markdown",
   "metadata": {},
   "source": [
    "# torchtext 处理成 batch"
   ]
  },
  {
   "cell_type": "code",
   "execution_count": 2,
   "metadata": {
    "ExecuteTime": {
     "end_time": "2020-06-25T13:46:27.570700Z",
     "start_time": "2020-06-25T13:46:27.315174Z"
    },
    "collapsed": true
   },
   "outputs": [],
   "source": [
    "import torch\n",
    "import torch.optim as optim\n",
    "import torch.nn as nn\n",
    "import torch.nn.functional as F\n",
    "\n",
    "from torchtext import data\n",
    "from torchtext import datasets\n",
    "from torchtext import vocab"
   ]
  },
  {
   "cell_type": "code",
   "execution_count": null,
   "metadata": {
    "collapsed": true
   },
   "outputs": [],
   "source": [
    "# 1. 定义 Field\n",
    "\n",
    "text_field = data.Field(tokenize='spacy', lower=True, fix_length=40, batch_first=True)\n",
    "label_field = data.LabelField(dtype=torch.long)\n"
   ]
  },
  {
   "cell_type": "code",
   "execution_count": null,
   "metadata": {
    "collapsed": true
   },
   "outputs": [],
   "source": [
    "# 2. 定义 DataSet\n",
    "\n",
    "train, dev = data.TabularDataset.splits(\n",
    "        path=BASE_PATH, train='train.tsv', validation='dev.tsv',format='tsv', skip_header=True,\n",
    "        fields=[('text', text_field), ('label', label_field)])\n",
    "\n",
    "# 这里需要注意单独处理的时候不能用 splits 方法。\n",
    "test = data.TabularDataset(BASE_PATH+'test.tsv', format='tsv', skip_header=True,\n",
    "        fields=[('index', label_field), ('text', text_field)])\n",
    "\n",
    "print(\"the size of train: {}, dev:{}, test:{}\".format(\n",
    "    len(train), len(dev), len(test)))\n"
   ]
  },
  {
   "cell_type": "code",
   "execution_count": null,
   "metadata": {
    "collapsed": true
   },
   "outputs": [],
   "source": [
    "# 查看 Example\n",
    "print(train[1].text, train[1].label)\n",
    "\n",
    "print(dev[1].text, dev[1].label)\n",
    "\n",
    "print(test[1].text)"
   ]
  },
  {
   "cell_type": "code",
   "execution_count": null,
   "metadata": {
    "collapsed": true
   },
   "outputs": [],
   "source": [
    "# 3. 建立 vocab，大小是text_field里面的词数量\n",
    "# vectors = vocab.Vectors(embedding_file, cache_dir)\n",
    "\n",
    "text_field.build_vocab(\n",
    "        train, dev, test, max_size=25000,\n",
    "        vectors='glove.6B.100d', unk_init=torch.Tensor.normal_)\n",
    "\n",
    "label_field.build_vocab(train, dev, test)\n",
    "\n"
   ]
  },
  {
   "cell_type": "code",
   "execution_count": null,
   "metadata": {
    "collapsed": true
   },
   "outputs": [],
   "source": [
    "len_vocab = len(text_field.vocab)\n",
    "print(len_vocab)\n",
    "\n",
    "print(len(label_field.vocab))\n",
    "# for step, batch in enumerate(tqdm(train_iter, desc=\"Iteration\")):\n",
    "#     print(batch.text, batch.label)\n",
    "    "
   ]
  },
  {
   "cell_type": "code",
   "execution_count": null,
   "metadata": {
    "collapsed": true
   },
   "outputs": [],
   "source": [
    "# 4. 构造迭代器\n",
    "\n",
    "train_iter, dev_iter = data.BucketIterator.splits(\n",
    "        (train, dev), batch_sizes=(128, 128), sort_key=lambda x: len(x.text), \n",
    "        sort_within_batch=True, repeat=False, shuffle=True, device=device)\n",
    "\n",
    "# 同样单独处理的时候\n",
    "test_iter = data.Iterator(test, batch_size=len(test), train=False,\n",
    "                          sort=False, device=device)\n",
    "\n",
    "print(\"the size of train_iter: {}, dev_iter:{}, test_iter:{}\".format(\n",
    "    len(train_iter), len(dev_iter), len(test_iter)))\n",
    "\n"
   ]
  },
  {
   "cell_type": "code",
   "execution_count": null,
   "metadata": {
    "collapsed": true
   },
   "outputs": [],
   "source": [
    "# 查看 Iterater\n",
    "# seed_everything()\n",
    "for batch_idx, (X_train_var, y_train_var) in enumerate(train_iter):\n",
    "    print(batch_idx, X_train_var.shape, y_train_var.shape)\n",
    "    break\n"
   ]
  },
  {
   "cell_type": "code",
   "execution_count": null,
   "metadata": {
    "collapsed": true
   },
   "outputs": [],
   "source": []
  },
  {
   "cell_type": "code",
   "execution_count": null,
   "metadata": {
    "collapsed": true
   },
   "outputs": [],
   "source": []
  },
  {
   "cell_type": "code",
   "execution_count": null,
   "metadata": {
    "collapsed": true
   },
   "outputs": [],
   "source": []
  }
 ],
 "metadata": {
  "kernelspec": {
   "display_name": "Python 3",
   "language": "python",
   "name": "python3"
  },
  "language_info": {
   "codemirror_mode": {
    "name": "ipython",
    "version": 3
   },
   "file_extension": ".py",
   "mimetype": "text/x-python",
   "name": "python",
   "nbconvert_exporter": "python",
   "pygments_lexer": "ipython3",
   "version": "3.6.8"
  },
  "toc": {
   "base_numbering": 1,
   "nav_menu": {},
   "number_sections": true,
   "sideBar": true,
   "skip_h1_title": false,
   "title_cell": "Table of Contents",
   "title_sidebar": "Contents",
   "toc_cell": false,
   "toc_position": {
    "height": "calc(100% - 180px)",
    "left": "10px",
    "top": "150px",
    "width": "181px"
   },
   "toc_section_display": true,
   "toc_window_display": true
  }
 },
 "nbformat": 4,
 "nbformat_minor": 2
}
