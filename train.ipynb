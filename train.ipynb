{
 "cells": [
  {
   "cell_type": "markdown",
   "metadata": {},
   "source": [
    "# 导库"
   ]
  },
  {
   "cell_type": "code",
   "execution_count": 1,
   "metadata": {
    "ExecuteTime": {
     "end_time": "2021-07-20T07:34:15.145790Z",
     "start_time": "2021-07-20T07:34:11.138646Z"
    },
    "collapsed": true
   },
   "outputs": [],
   "source": [
    "import torch\n",
    "import torch.optim as optim\n",
    "import torch.nn as nn\n",
    "import torch.nn.functional as F\n",
    "\n",
    "import numpy as np\n",
    "import pandas as pd\n",
    "import json\n",
    "import random\n",
    "\n",
    "from utils import extend_maps, prepocess_data_for_lstmcrf, get_device, seed_everything\n",
    "from models.util import tensorized, sort_by_lengths, cal_loss, cal_lstm_crf_loss\n",
    "from models.bilstm_crf import BiLSTM_CRF\n",
    "\n",
    "from ModelHandler import ModelHandler"
   ]
  },
  {
   "cell_type": "code",
   "execution_count": 2,
   "metadata": {
    "ExecuteTime": {
     "end_time": "2021-07-20T08:13:58.954850Z",
     "start_time": "2021-07-20T08:13:58.932525Z"
    }
   },
   "outputs": [
    {
     "name": "stdout",
     "output_type": "stream",
     "text": [
      "device is cpu, not recommend\n",
      "[] 0\n"
     ]
    }
   ],
   "source": [
    "device_all, n_gpu=get_device()\n",
    "\n",
    "# 使用第一块 gpu\n",
    "device = device_all\n",
    "print(device, n_gpu)\n",
    "\n",
    "device = \"cpu\""
   ]
  },
  {
   "cell_type": "code",
   "execution_count": 3,
   "metadata": {
    "ExecuteTime": {
     "end_time": "2021-07-20T08:14:01.427185Z",
     "start_time": "2021-07-20T08:14:01.380089Z"
    }
   },
   "outputs": [
    {
     "data": {
      "text/plain": [
       "3"
      ]
     },
     "execution_count": 3,
     "metadata": {},
     "output_type": "execute_result"
    }
   ],
   "source": [
    "# 设置随机种子\n",
    "seed_everything()\n",
    "random.randint(1,10)\n"
   ]
  },
  {
   "cell_type": "markdown",
   "metadata": {},
   "source": [
    "# 数据预处理"
   ]
  },
  {
   "cell_type": "code",
   "execution_count": 4,
   "metadata": {
    "ExecuteTime": {
     "end_time": "2021-07-20T08:14:03.908616Z",
     "start_time": "2021-07-20T08:14:03.678116Z"
    }
   },
   "outputs": [
    {
     "name": "stdout",
     "output_type": "stream",
     "text": [
      "(3821, 4) (463, 4) (463, 4)\n"
     ]
    },
    {
     "data": {
      "text/html": [
       "<div>\n",
       "<style scoped>\n",
       "    .dataframe tbody tr th:only-of-type {\n",
       "        vertical-align: middle;\n",
       "    }\n",
       "\n",
       "    .dataframe tbody tr th {\n",
       "        vertical-align: top;\n",
       "    }\n",
       "\n",
       "    .dataframe thead th {\n",
       "        text-align: right;\n",
       "    }\n",
       "</style>\n",
       "<table border=\"1\" class=\"dataframe\">\n",
       "  <thead>\n",
       "    <tr style=\"text-align: right;\">\n",
       "      <th></th>\n",
       "      <th>words</th>\n",
       "      <th>words_index</th>\n",
       "      <th>tags</th>\n",
       "      <th>tags_index</th>\n",
       "    </tr>\n",
       "  </thead>\n",
       "  <tbody>\n",
       "    <tr>\n",
       "      <th>0</th>\n",
       "      <td>['高', '勇', '：', '男', '，', '中', '国', '国', '籍', ...</td>\n",
       "      <td>[0, 1, 2, 3, 4, 5, 6, 6, 7, 4, 8, 9, 10, 11, 1...</td>\n",
       "      <td>['B-NAME', 'E-NAME', 'O', 'O', 'O', 'B-CONT', ...</td>\n",
       "      <td>[0, 1, 2, 2, 2, 3, 4, 4, 5, 2, 2, 2, 2, 2, 2, ...</td>\n",
       "    </tr>\n",
       "    <tr>\n",
       "      <th>1</th>\n",
       "      <td>['1', '9', '6', '6', '年', '出', '生', '，', '汉', ...</td>\n",
       "      <td>[14, 15, 16, 16, 17, 18, 19, 4, 20, 21, 4, 5, ...</td>\n",
       "      <td>['O', 'O', 'O', 'O', 'O', 'O', 'O', 'O', 'B-RA...</td>\n",
       "      <td>[2, 2, 2, 2, 2, 2, 2, 2, 6, 7, 2, 8, 9, 9, 10,...</td>\n",
       "    </tr>\n",
       "    <tr>\n",
       "      <th>2</th>\n",
       "      <td>['2', '0', '0', '7', '年', '1', '0', '月', '至', ...</td>\n",
       "      <td>[55, 56, 56, 57, 17, 14, 56, 58, 59, 60, 61, 6...</td>\n",
       "      <td>['O', 'O', 'O', 'O', 'O', 'O', 'O', 'O', 'O', ...</td>\n",
       "      <td>[2, 2, 2, 2, 2, 2, 2, 2, 2, 2, 2, 14, 15, 15, ...</td>\n",
       "    </tr>\n",
       "    <tr>\n",
       "      <th>3</th>\n",
       "      <td>['2', '0', '0', '7', '年', '1', '2', '月', '至', ...</td>\n",
       "      <td>[55, 56, 56, 57, 17, 14, 55, 58, 59, 55, 56, 1...</td>\n",
       "      <td>['O', 'O', 'O', 'O', 'O', 'O', 'O', 'O', 'O', ...</td>\n",
       "      <td>[2, 2, 2, 2, 2, 2, 2, 2, 2, 2, 2, 2, 2, 2, 2, ...</td>\n",
       "    </tr>\n",
       "    <tr>\n",
       "      <th>4</th>\n",
       "      <td>['2', '0', '1', '3', '年', '2', '月', '至', '今', ...</td>\n",
       "      <td>[55, 56, 14, 69, 17, 55, 58, 59, 60, 61, 78, 7...</td>\n",
       "      <td>['O', 'O', 'O', 'O', 'O', 'O', 'O', 'O', 'O', ...</td>\n",
       "      <td>[2, 2, 2, 2, 2, 2, 2, 2, 2, 2, 14, 15, 15, 15,...</td>\n",
       "    </tr>\n",
       "  </tbody>\n",
       "</table>\n",
       "</div>"
      ],
      "text/plain": [
       "                                               words  \\\n",
       "0  ['高', '勇', '：', '男', '，', '中', '国', '国', '籍', ...   \n",
       "1  ['1', '9', '6', '6', '年', '出', '生', '，', '汉', ...   \n",
       "2  ['2', '0', '0', '7', '年', '1', '0', '月', '至', ...   \n",
       "3  ['2', '0', '0', '7', '年', '1', '2', '月', '至', ...   \n",
       "4  ['2', '0', '1', '3', '年', '2', '月', '至', '今', ...   \n",
       "\n",
       "                                         words_index  \\\n",
       "0  [0, 1, 2, 3, 4, 5, 6, 6, 7, 4, 8, 9, 10, 11, 1...   \n",
       "1  [14, 15, 16, 16, 17, 18, 19, 4, 20, 21, 4, 5, ...   \n",
       "2  [55, 56, 56, 57, 17, 14, 56, 58, 59, 60, 61, 6...   \n",
       "3  [55, 56, 56, 57, 17, 14, 55, 58, 59, 55, 56, 1...   \n",
       "4  [55, 56, 14, 69, 17, 55, 58, 59, 60, 61, 78, 7...   \n",
       "\n",
       "                                                tags  \\\n",
       "0  ['B-NAME', 'E-NAME', 'O', 'O', 'O', 'B-CONT', ...   \n",
       "1  ['O', 'O', 'O', 'O', 'O', 'O', 'O', 'O', 'B-RA...   \n",
       "2  ['O', 'O', 'O', 'O', 'O', 'O', 'O', 'O', 'O', ...   \n",
       "3  ['O', 'O', 'O', 'O', 'O', 'O', 'O', 'O', 'O', ...   \n",
       "4  ['O', 'O', 'O', 'O', 'O', 'O', 'O', 'O', 'O', ...   \n",
       "\n",
       "                                          tags_index  \n",
       "0  [0, 1, 2, 2, 2, 3, 4, 4, 5, 2, 2, 2, 2, 2, 2, ...  \n",
       "1  [2, 2, 2, 2, 2, 2, 2, 2, 6, 7, 2, 8, 9, 9, 10,...  \n",
       "2  [2, 2, 2, 2, 2, 2, 2, 2, 2, 2, 2, 14, 15, 15, ...  \n",
       "3  [2, 2, 2, 2, 2, 2, 2, 2, 2, 2, 2, 2, 2, 2, 2, ...  \n",
       "4  [2, 2, 2, 2, 2, 2, 2, 2, 2, 2, 14, 15, 15, 15,...  "
      ]
     },
     "execution_count": 4,
     "metadata": {},
     "output_type": "execute_result"
    }
   ],
   "source": [
    "df_train_data = pd.read_csv(\"./ResumeNER/df_train_data.csv\", index_col=0)\n",
    "df_dev_data = pd.read_csv(\"./ResumeNER/df_dev_data.csv\", index_col=0)\n",
    "df_test_data = pd.read_csv(\"./ResumeNER/df_test_data.csv\", index_col=0)\n",
    "\n",
    "print(df_train_data.shape, df_dev_data.shape, df_dev_data.shape)\n",
    "df_train_data.head()"
   ]
  },
  {
   "cell_type": "code",
   "execution_count": 5,
   "metadata": {
    "ExecuteTime": {
     "end_time": "2021-07-20T08:14:11.141665Z",
     "start_time": "2021-07-20T08:14:10.637437Z"
    },
    "collapsed": true
   },
   "outputs": [],
   "source": [
    "train_word_lists = [eval(i) for i in df_train_data['words'].tolist()]\n",
    "train_tag_lists = [eval(i) for i in df_train_data['tags'].tolist()]\n",
    "\n",
    "dev_word_lists = [eval(i) for i in df_dev_data['words'].tolist()]\n",
    "dev_tag_lists = [eval(i) for i in df_dev_data['tags'].tolist()]\n",
    "\n",
    "test_word_lists = [eval(i) for i in df_test_data['words'].tolist()]\n",
    "test_tag_lists = [eval(i) for i in df_test_data['tags'].tolist()]\n"
   ]
  },
  {
   "cell_type": "code",
   "execution_count": 8,
   "metadata": {
    "ExecuteTime": {
     "end_time": "2021-07-20T08:15:05.162813Z",
     "start_time": "2021-07-20T08:15:05.108177Z"
    }
   },
   "outputs": [
    {
     "name": "stdout",
     "output_type": "stream",
     "text": [
      "1902 28\n",
      "3821 3821\n",
      "463 463\n",
      "477 477\n"
     ]
    }
   ],
   "source": [
    "with open('./ResumeNER/word2id.json', 'r') as f:\n",
    "    word2id = json.load(f)\n",
    "with open('./ResumeNER/tag2id.json', 'r') as f:\n",
    "    tag2id = json.load(f)\n",
    "print(len(word2id), len(tag2id))\n",
    "    \n",
    "# （LSTM 需要使用 unk、pad）增加 unk，pad\n",
    "# 为了让转移矩阵更具鲁棒性，添加 <start>，<end> 等字段\n",
    "word2id, tag2id = extend_maps(word2id, tag2id, for_crf=True)\n",
    "\n",
    "# 给每个句子添加 <end> 字段，测试数据不用加\n",
    "train_word_lists, train_tag_lists = prepocess_data_for_lstmcrf(train_word_lists, train_tag_lists)\n",
    "dev_word_lists, dev_tag_lists = prepocess_data_for_lstmcrf(dev_word_lists, dev_tag_lists)\n",
    "test_word_lists, test_tag_lists = prepocess_data_for_lstmcrf(test_word_lists, test_tag_lists, test=True)\n",
    "\n",
    "# 给句子进行排序，按照句子长度从小到大排序\n",
    "train_word_lists, train_tag_lists, _ = sort_by_lengths(train_word_lists, train_tag_lists)\n",
    "dev_word_lists, dev_tag_lists, _ = sort_by_lengths(dev_word_lists, dev_tag_lists)\n",
    "test_word_lists, test_tag_lists, indices = sort_by_lengths(test_word_lists, test_tag_lists)\n",
    "\n",
    "print(len(train_word_lists), len(train_tag_lists))\n",
    "print(len(dev_word_lists), len(dev_tag_lists))\n",
    "print(len(test_word_lists), len(test_tag_lists))"
   ]
  },
  {
   "cell_type": "markdown",
   "metadata": {},
   "source": [
    "# 模型单独测试"
   ]
  },
  {
   "cell_type": "code",
   "execution_count": 9,
   "metadata": {
    "ExecuteTime": {
     "end_time": "2021-07-20T08:16:56.337164Z",
     "start_time": "2021-07-20T08:16:56.069649Z"
    }
   },
   "outputs": [
    {
     "name": "stdout",
     "output_type": "stream",
     "text": [
      "3821\n",
      "out_size 32\n",
      "torch.Size([1, 181])\n",
      "torch.Size([1, 181])\n",
      "torch.Size([1, 181, 32, 32])\n",
      "616.3934936523438\n"
     ]
    }
   ],
   "source": [
    "print(len(train_word_lists))\n",
    "batch_sents = train_word_lists[:1]\n",
    "batch_tags = train_tag_lists[:1]\n",
    "\n",
    "emb_size, hidden_size = 128, 128\n",
    "vocab_size = len(word2id)\n",
    "out_size = len(tag2id)\n",
    "print(\"out_size\", out_size)\n",
    "model = BiLSTM_CRF(vocab_size, emb_size, hidden_size, out_size).to(device)\n",
    "\n",
    "model.train()\n",
    "# 准备数据，变成 tesnor 数据\n",
    "tensorized_sents, lengths = tensorized(batch_sents, word2id)\n",
    "print(tensorized_sents.shape)\n",
    "tensorized_sents = tensorized_sents.to(device)\n",
    "\n",
    "targets, lengths = tensorized(batch_tags, tag2id)\n",
    "print(targets.shape)\n",
    "targets = targets.to(device)\n",
    "\n",
    "# forward\n",
    "scores = model(tensorized_sents, lengths).to(device)\n",
    "print(scores.shape)\n",
    "# 计算损失 更新参数\n",
    "# self.optimizer.zero_grad()\n",
    "loss = cal_lstm_crf_loss(scores, targets, tag2id).to(device)\n",
    "print(loss.item())\n",
    "# loss.backward()\n",
    "# self.optimizer.step()"
   ]
  },
  {
   "cell_type": "markdown",
   "metadata": {},
   "source": [
    "# bilstm_crf 模型"
   ]
  },
  {
   "cell_type": "code",
   "execution_count": null,
   "metadata": {
    "ExecuteTime": {
     "end_time": "2020-06-27T08:29:26.967940Z",
     "start_time": "2020-06-27T08:29:26.948480Z"
    }
   },
   "outputs": [],
   "source": [
    "emb_size, hidden_size = 128, 128\n",
    "vocab_size = len(word2id)\n",
    "out_size = len(tag2id)\n",
    "print(\"out_size\", out_size)\n",
    "\n",
    "model = BiLSTM_CRF(vocab_size, emb_size, hidden_size, out_size)\n",
    "\n"
   ]
  },
  {
   "cell_type": "markdown",
   "metadata": {},
   "source": [
    "# 模型训练"
   ]
  },
  {
   "cell_type": "code",
   "execution_count": 10,
   "metadata": {
    "ExecuteTime": {
     "end_time": "2021-07-20T08:25:59.653000Z",
     "start_time": "2021-07-20T08:18:17.620494Z"
    }
   },
   "outputs": [
    {
     "name": "stdout",
     "output_type": "stream",
     "text": [
      "epoch: 0\n",
      "train loss: 22.425802663594734\n",
      "*****Checking accuracy on validation set*****\n",
      "batchNum: 14\n",
      "val_loss: 6.7205063956124445\n",
      "epoch: 1\n",
      "train loss: 3.9375369929465927\n",
      "*****Checking accuracy on validation set*****\n",
      "batchNum: 14\n",
      "val_loss: 3.7137156895228793\n",
      "epoch: 2\n",
      "train loss: 1.9068144469701944\n",
      "*****Checking accuracy on validation set*****\n",
      "batchNum: 14\n",
      "val_loss: 3.5055945260184154\n",
      "epoch: 3\n",
      "train loss: 1.1473891955463826\n",
      "*****Checking accuracy on validation set*****\n",
      "batchNum: 14\n",
      "val_loss: 2.8882337297712053\n",
      "epoch: 4\n",
      "train loss: 0.7612767580176601\n",
      "*****Checking accuracy on validation set*****\n",
      "batchNum: 14\n",
      "val_loss: 2.9337141854422435\n",
      "epoch: 5\n",
      "train loss: 0.40826845569770875\n",
      "*****Checking accuracy on validation set*****\n",
      "batchNum: 14\n",
      "val_loss: 3.069084712437221\n",
      "epoch: 6\n",
      "train loss: 0.2618102386218159\n",
      "*****Checking accuracy on validation set*****\n",
      "batchNum: 14\n",
      "val_loss: 3.024627140590123\n",
      "epoch: 7\n",
      "train loss: 0.4107361480969341\n",
      "*****Checking accuracy on validation set*****\n",
      "batchNum: 14\n",
      "val_loss: 3.1430086408342635\n",
      "epoch: 8\n",
      "train loss: 0.5314720859046743\n",
      "*****Checking accuracy on validation set*****\n",
      "batchNum: 14\n",
      "val_loss: 3.086805616106306\n",
      "epoch: 9\n",
      "train loss: 0.3837030875582655\n",
      "*****Checking accuracy on validation set*****\n",
      "batchNum: 14\n",
      "val_loss: 3.062468937465123\n",
      "epoch: 10\n",
      "train loss: 0.21852361855386687\n",
      "*****Checking accuracy on validation set*****\n",
      "batchNum: 14\n",
      "val_loss: 3.04357419695173\n",
      "epoch: 11\n",
      "train loss: 0.15886367669626444\n",
      "*****Checking accuracy on validation set*****\n",
      "batchNum: 14\n",
      "val_loss: 3.0093787057059154\n",
      "epoch: 12\n",
      "train loss: 0.11599263423631172\n",
      "*****Checking accuracy on validation set*****\n",
      "batchNum: 14\n",
      "val_loss: 2.9247496468680247\n",
      "epoch: 13\n",
      "train loss: 0.12721021636193539\n",
      "*****Checking accuracy on validation set*****\n",
      "batchNum: 14\n",
      "val_loss: 3.035630362374442\n",
      "Stopping.\n",
      "Best Epoch: 3\n",
      "Best Val Loss: 2.8882337297712053\n"
     ]
    }
   ],
   "source": [
    "# %%time\n",
    "# seed_everything()\n",
    "\n",
    "batch_size = 2**5\n",
    "\n",
    "modelHandlerParams = {}\n",
    "modelHandlerParams['epoch_nums'] = 1000000\n",
    "modelHandlerParams['batch_size'] = batch_size\n",
    "modelHandlerParams['device'] = device\n",
    "modelHandlerParams['model'] = model\n",
    "modelHandlerParams['word2id'] = word2id\n",
    "modelHandlerParams['tag2id'] = tag2id\n",
    "modelHandler = ModelHandler(modelHandlerParams)\n",
    "\n",
    "model.to(device)\n",
    "\n",
    "model_path = \"./models/blstm_crf.pickle\"\n",
    "\n",
    "# crf 损失函数\n",
    "loss_fn = cal_lstm_crf_loss\n",
    "# 调参地方，分别调整为0.1,0.01,0.001，最优为0.01\n",
    "optimizer = optim.Adam(model.parameters(), lr=0.01,\n",
    "                       weight_decay=0.0001) # lr sets the learning rate of the optimizer\n",
    "\n",
    "modelHandler.fit(X_train=train_word_lists, y_train=train_tag_lists, loss_fn=loss_fn, model_path = model_path,\n",
    "                 optimizer=optimizer, eval_set = (dev_word_lists, dev_tag_lists), early_stopping_rounds=10, verbose=2)"
   ]
  },
  {
   "cell_type": "markdown",
   "metadata": {},
   "source": [
    "# 模型测试"
   ]
  },
  {
   "cell_type": "code",
   "execution_count": 11,
   "metadata": {
    "ExecuteTime": {
     "end_time": "2021-07-20T08:26:44.835255Z",
     "start_time": "2021-07-20T08:26:43.452868Z"
    }
   },
   "outputs": [
    {
     "name": "stdout",
     "output_type": "stream",
     "text": [
      "           precision    recall  f1-score   support\n",
      "    M-ORG     0.3190    0.3202    0.3196      4325\n",
      "   E-NAME     0.0177    0.0179    0.0178       112\n",
      "    E-EDU     0.0089    0.0089    0.0089       112\n",
      "    E-PRO     0.0000    0.0000    0.0000        33\n",
      "   M-NAME     0.0100    0.0122    0.0110        82\n",
      "    M-LOC     0.0000    0.0000    0.0000        21\n",
      "  E-TITLE     0.0379    0.0376    0.0377       772\n",
      "   B-CONT     0.0357    0.0357    0.0357        28\n",
      "   M-CONT     0.0377    0.0377    0.0377        53\n",
      "    E-LOC     0.0000    0.0000    0.0000         6\n",
      "    B-EDU     0.0179    0.0179    0.0179       112\n",
      "    B-PRO     0.0000    0.0000    0.0000        33\n",
      "  B-TITLE     0.0616    0.0609    0.0612       772\n",
      "  M-TITLE     0.1377    0.1296    0.1335      1922\n",
      "   B-RACE     0.0714    0.0714    0.0714        14\n",
      "    M-EDU     0.0292    0.0279    0.0286       179\n",
      "    M-PRO     0.0000    0.0000    0.0000        68\n",
      "    E-ORG     0.0432    0.0434    0.0433       553\n",
      "   E-RACE     0.0714    0.0714    0.0714        14\n",
      "    B-LOC     0.0000    0.0000    0.0000         6\n",
      "        O     0.3658    0.3711    0.3684      5190\n",
      "    B-ORG     0.0284    0.0289    0.0287       553\n",
      "   E-CONT     0.0357    0.0357    0.0357        28\n",
      "   B-NAME     0.0180    0.0179    0.0179       112\n",
      "avg/total     0.2436    0.2447    0.2441     15100\n",
      "\n",
      "Confusion Matrix:\n",
      "          M-ORG  E-NAME   E-EDU   E-PRO  M-NAME   M-LOC E-TITLE  B-CONT  M-CONT   E-LOC   B-EDU   B-PRO B-TITLE M-TITLE  B-RACE   M-EDU   M-PRO   E-ORG  E-RACE   B-LOC       O   B-ORG  E-CONT  B-NAME \n",
      "  M-ORG    1385       8      20       7       9       2     228       6      10       1      22       7     220     519       2      33      14     170       2       0    1282     188       6      10 \n",
      " E-NAME      19       2       1       0       1       0       1       0       1       0       1       2       2       9       0       2       0       4       0       0      50       9       0       0 \n",
      "  E-EDU      30       0       1       0       0       0       4       0       0       0       1       0       8      20       0       1       0       1       0       0      37       3       0       0 \n",
      "  E-PRO       8       0       0       0       1       0       3       0       0       0       0       0       2       8       0       1       0       1       0       0       5       2       0       0 \n",
      " M-NAME      18       1       2       0       1       0       6       1       0       0       2       0       2       7       0       0       0       0       0       0      31       2       0       1 \n",
      "  M-LOC       6       0       2       0       0       0       0       1       1       0       0       0       2       0       0       4       0       0       0       0       5       0       0       0 \n",
      "E-TITLE     232       3       3       0       3       2      29       0       1       1       7       2      42     102       1       7       5      21       1       0     237      29       1       3 \n",
      " B-CONT       3       0       1       0       0       0       1       1       0       0       0       0       0       8       0       0       0       1       0       0      13       0       0       0 \n",
      " M-CONT       2       0       0       0       0       0       6       0       2       0       0       0       3       6       1       0       0       2       1       0      20       5       0       0 \n",
      "  E-LOC       1       0       0       0       0       0       0       0       0       0       0       0       0       2       0       0       0       1       0       0       1       0       1       0 \n",
      "  B-EDU      24       1       3       0       0       0       4       0       1       0       2       0       6      13       0       1       1       3       0       0      36       7       0       0 \n",
      "  B-PRO      10       0       1       0       0       0       5       0       0       0       0       0       1       3       0       0       0       3       0       0       8       0       0       1 \n",
      "B-TITLE     245       2       3       0       1       0      49       1       1       0       7       3      47      76       0      10       5      22       0       1     233      22       3       4 \n",
      "M-TITLE     576       8      13       9      21       4      95       3       6       0       6       7     101     249       1      10      14      83       0       1     556      72       3       7 \n",
      " B-RACE       5       0       1       0       1       0       0       0       0       0       0       0       0       1       1       0       1       0       0       0       4       0       0       0 \n",
      "  M-EDU      45       1       3       1       1       0       8       0       0       0       2       0      13      19       0       5       1       8       0       0      53       8       1       1 \n",
      "  M-PRO      13       0       0       0       0       0       2       0       0       0       1       0       9      16       0       1       0       3       0       0      20       2       0       0 \n",
      "  E-ORG     178       4       5       0       0       0      27       2       2       0       6       2      29      65       0       6       3      24       0       0     155      24       0       0 \n",
      " E-RACE       5       1       0       0       0       0       1       0       0       0       0       0       1       0       0       0       1       0       1       0       2       0       0       0 \n",
      "  B-LOC       2       0       0       0       0       0       0       0       0       0       2       0       0       0       0       0       0       0       0       0       2       0       0       0 \n",
      "      O    1295      18      36      14      17       7     240       9      21       2      36       9     218     559       1      61      39     168       2       2    1926     159       8      22 \n",
      "  B-ORG     170       2       1       1       2       1      31       1       1       1       2       1      33      67       0       7       1      23       0       0     161      16       0       0 \n",
      " E-CONT       5       0       0       0       0       0       1       0       0       0       0       0       2       4       0       0       0       1       0       0      11       0       1       0 \n",
      " B-NAME      18       2       2       1       1       0       7       0       0       0       1       0       3      11       0       2       0       4       0       0      45       3       1       2 \n"
     ]
    }
   ],
   "source": [
    "pred_tag_lists, test_tag_lists = modelHandler.test(test_word_lists, test_tag_lists, indices)\n",
    "\n",
    "from Metrics import Metrics\n",
    "metrics = Metrics(test_tag_lists, pred_tag_lists)\n",
    "metrics.report_scores()\n",
    "metrics.report_confusion_matrix()"
   ]
  },
  {
   "cell_type": "code",
   "execution_count": null,
   "metadata": {
    "collapsed": true
   },
   "outputs": [],
   "source": []
  },
  {
   "cell_type": "code",
   "execution_count": null,
   "metadata": {
    "collapsed": true
   },
   "outputs": [],
   "source": []
  },
  {
   "cell_type": "code",
   "execution_count": null,
   "metadata": {
    "collapsed": true
   },
   "outputs": [],
   "source": []
  },
  {
   "cell_type": "code",
   "execution_count": null,
   "metadata": {
    "collapsed": true
   },
   "outputs": [],
   "source": []
  },
  {
   "cell_type": "code",
   "execution_count": null,
   "metadata": {
    "collapsed": true
   },
   "outputs": [],
   "source": []
  }
 ],
 "metadata": {
  "kernelspec": {
   "display_name": "Python 3",
   "language": "python",
   "name": "python3"
  },
  "language_info": {
   "codemirror_mode": {
    "name": "ipython",
    "version": 3
   },
   "file_extension": ".py",
   "mimetype": "text/x-python",
   "name": "python",
   "nbconvert_exporter": "python",
   "pygments_lexer": "ipython3",
   "version": "3.6.8"
  },
  "toc": {
   "base_numbering": 1,
   "nav_menu": {},
   "number_sections": true,
   "sideBar": true,
   "skip_h1_title": false,
   "title_cell": "Table of Contents",
   "title_sidebar": "Contents",
   "toc_cell": false,
   "toc_position": {
    "height": "calc(100% - 180px)",
    "left": "10px",
    "top": "150px",
    "width": "192px"
   },
   "toc_section_display": true,
   "toc_window_display": true
  }
 },
 "nbformat": 4,
 "nbformat_minor": 2
}
