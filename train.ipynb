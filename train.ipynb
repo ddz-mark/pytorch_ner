{
 "cells": [
  {
   "cell_type": "markdown",
   "metadata": {},
   "source": [
    "# 导库"
   ]
  },
  {
   "cell_type": "code",
   "execution_count": 1,
   "metadata": {
    "ExecuteTime": {
     "end_time": "2020-06-26T15:16:26.765256Z",
     "start_time": "2020-06-26T15:16:25.484924Z"
    },
    "collapsed": true
   },
   "outputs": [],
   "source": [
    "import torch\n",
    "import torch.optim as optim\n",
    "import torch.nn as nn\n",
    "import torch.nn.functional as F\n",
    "\n",
    "import numpy as np\n",
    "import pandas as pd\n",
    "import json\n",
    "import random\n",
    "\n",
    "from utils import extend_maps, prepocess_data_for_lstmcrf, get_device, seed_everything\n",
    "from models.util import tensorized, sort_by_lengths, cal_loss, cal_lstm_crf_loss\n",
    "from models.bilstm_crf import BiLSTM_CRF\n",
    "\n",
    "from ModelHandler import ModelHandler"
   ]
  },
  {
   "cell_type": "code",
   "execution_count": 2,
   "metadata": {
    "ExecuteTime": {
     "end_time": "2020-06-26T15:16:26.795949Z",
     "start_time": "2020-06-26T15:16:26.767433Z"
    }
   },
   "outputs": [
    {
     "name": "stdout",
     "output_type": "stream",
     "text": [
      "device is cpu, not recommend\n",
      "[] 0\n"
     ]
    }
   ],
   "source": [
    "device_all, n_gpu=get_device()\n",
    "\n",
    "# 使用第一块 gpu\n",
    "device = device_all\n",
    "print(device, n_gpu)\n",
    "\n",
    "device = \"cpu\""
   ]
  },
  {
   "cell_type": "code",
   "execution_count": 3,
   "metadata": {
    "ExecuteTime": {
     "end_time": "2020-06-26T15:16:26.859402Z",
     "start_time": "2020-06-26T15:16:26.823062Z"
    }
   },
   "outputs": [
    {
     "data": {
      "text/plain": [
       "3"
      ]
     },
     "execution_count": 3,
     "metadata": {},
     "output_type": "execute_result"
    }
   ],
   "source": [
    "# 设置随机种子\n",
    "seed_everything()\n",
    "random.randint(1,10)\n"
   ]
  },
  {
   "cell_type": "markdown",
   "metadata": {},
   "source": [
    "# 数据预处理"
   ]
  },
  {
   "cell_type": "code",
   "execution_count": 4,
   "metadata": {
    "ExecuteTime": {
     "end_time": "2020-06-26T15:16:27.002631Z",
     "start_time": "2020-06-26T15:16:26.879261Z"
    }
   },
   "outputs": [
    {
     "name": "stdout",
     "output_type": "stream",
     "text": [
      "(3821, 4) (463, 4) (463, 4)\n"
     ]
    },
    {
     "data": {
      "text/html": [
       "<div>\n",
       "<style scoped>\n",
       "    .dataframe tbody tr th:only-of-type {\n",
       "        vertical-align: middle;\n",
       "    }\n",
       "\n",
       "    .dataframe tbody tr th {\n",
       "        vertical-align: top;\n",
       "    }\n",
       "\n",
       "    .dataframe thead th {\n",
       "        text-align: right;\n",
       "    }\n",
       "</style>\n",
       "<table border=\"1\" class=\"dataframe\">\n",
       "  <thead>\n",
       "    <tr style=\"text-align: right;\">\n",
       "      <th></th>\n",
       "      <th>words</th>\n",
       "      <th>words_index</th>\n",
       "      <th>tags</th>\n",
       "      <th>tags_index</th>\n",
       "    </tr>\n",
       "  </thead>\n",
       "  <tbody>\n",
       "    <tr>\n",
       "      <th>0</th>\n",
       "      <td>['高', '勇', '：', '男', '，', '中', '国', '国', '籍', ...</td>\n",
       "      <td>[0, 1, 2, 3, 4, 5, 6, 6, 7, 4, 8, 9, 10, 11, 1...</td>\n",
       "      <td>['B-NAME', 'E-NAME', 'O', 'O', 'O', 'B-CONT', ...</td>\n",
       "      <td>[0, 1, 2, 2, 2, 3, 4, 4, 5, 2, 2, 2, 2, 2, 2, ...</td>\n",
       "    </tr>\n",
       "    <tr>\n",
       "      <th>1</th>\n",
       "      <td>['1', '9', '6', '6', '年', '出', '生', '，', '汉', ...</td>\n",
       "      <td>[14, 15, 16, 16, 17, 18, 19, 4, 20, 21, 4, 5, ...</td>\n",
       "      <td>['O', 'O', 'O', 'O', 'O', 'O', 'O', 'O', 'B-RA...</td>\n",
       "      <td>[2, 2, 2, 2, 2, 2, 2, 2, 6, 7, 2, 8, 9, 9, 10,...</td>\n",
       "    </tr>\n",
       "    <tr>\n",
       "      <th>2</th>\n",
       "      <td>['2', '0', '0', '7', '年', '1', '0', '月', '至', ...</td>\n",
       "      <td>[55, 56, 56, 57, 17, 14, 56, 58, 59, 60, 61, 6...</td>\n",
       "      <td>['O', 'O', 'O', 'O', 'O', 'O', 'O', 'O', 'O', ...</td>\n",
       "      <td>[2, 2, 2, 2, 2, 2, 2, 2, 2, 2, 2, 14, 15, 15, ...</td>\n",
       "    </tr>\n",
       "    <tr>\n",
       "      <th>3</th>\n",
       "      <td>['2', '0', '0', '7', '年', '1', '2', '月', '至', ...</td>\n",
       "      <td>[55, 56, 56, 57, 17, 14, 55, 58, 59, 55, 56, 1...</td>\n",
       "      <td>['O', 'O', 'O', 'O', 'O', 'O', 'O', 'O', 'O', ...</td>\n",
       "      <td>[2, 2, 2, 2, 2, 2, 2, 2, 2, 2, 2, 2, 2, 2, 2, ...</td>\n",
       "    </tr>\n",
       "    <tr>\n",
       "      <th>4</th>\n",
       "      <td>['2', '0', '1', '3', '年', '2', '月', '至', '今', ...</td>\n",
       "      <td>[55, 56, 14, 69, 17, 55, 58, 59, 60, 61, 78, 7...</td>\n",
       "      <td>['O', 'O', 'O', 'O', 'O', 'O', 'O', 'O', 'O', ...</td>\n",
       "      <td>[2, 2, 2, 2, 2, 2, 2, 2, 2, 2, 14, 15, 15, 15,...</td>\n",
       "    </tr>\n",
       "  </tbody>\n",
       "</table>\n",
       "</div>"
      ],
      "text/plain": [
       "                                               words  \\\n",
       "0  ['高', '勇', '：', '男', '，', '中', '国', '国', '籍', ...   \n",
       "1  ['1', '9', '6', '6', '年', '出', '生', '，', '汉', ...   \n",
       "2  ['2', '0', '0', '7', '年', '1', '0', '月', '至', ...   \n",
       "3  ['2', '0', '0', '7', '年', '1', '2', '月', '至', ...   \n",
       "4  ['2', '0', '1', '3', '年', '2', '月', '至', '今', ...   \n",
       "\n",
       "                                         words_index  \\\n",
       "0  [0, 1, 2, 3, 4, 5, 6, 6, 7, 4, 8, 9, 10, 11, 1...   \n",
       "1  [14, 15, 16, 16, 17, 18, 19, 4, 20, 21, 4, 5, ...   \n",
       "2  [55, 56, 56, 57, 17, 14, 56, 58, 59, 60, 61, 6...   \n",
       "3  [55, 56, 56, 57, 17, 14, 55, 58, 59, 55, 56, 1...   \n",
       "4  [55, 56, 14, 69, 17, 55, 58, 59, 60, 61, 78, 7...   \n",
       "\n",
       "                                                tags  \\\n",
       "0  ['B-NAME', 'E-NAME', 'O', 'O', 'O', 'B-CONT', ...   \n",
       "1  ['O', 'O', 'O', 'O', 'O', 'O', 'O', 'O', 'B-RA...   \n",
       "2  ['O', 'O', 'O', 'O', 'O', 'O', 'O', 'O', 'O', ...   \n",
       "3  ['O', 'O', 'O', 'O', 'O', 'O', 'O', 'O', 'O', ...   \n",
       "4  ['O', 'O', 'O', 'O', 'O', 'O', 'O', 'O', 'O', ...   \n",
       "\n",
       "                                          tags_index  \n",
       "0  [0, 1, 2, 2, 2, 3, 4, 4, 5, 2, 2, 2, 2, 2, 2, ...  \n",
       "1  [2, 2, 2, 2, 2, 2, 2, 2, 6, 7, 2, 8, 9, 9, 10,...  \n",
       "2  [2, 2, 2, 2, 2, 2, 2, 2, 2, 2, 2, 14, 15, 15, ...  \n",
       "3  [2, 2, 2, 2, 2, 2, 2, 2, 2, 2, 2, 2, 2, 2, 2, ...  \n",
       "4  [2, 2, 2, 2, 2, 2, 2, 2, 2, 2, 14, 15, 15, 15,...  "
      ]
     },
     "execution_count": 4,
     "metadata": {},
     "output_type": "execute_result"
    }
   ],
   "source": [
    "df_train_data = pd.read_csv(\"./ResumeNER/df_train_data.csv\", index_col=0)\n",
    "df_dev_data = pd.read_csv(\"./ResumeNER/df_dev_data.csv\", index_col=0)\n",
    "df_test_data = pd.read_csv(\"./ResumeNER/df_test_data.csv\", index_col=0)\n",
    "\n",
    "print(df_train_data.shape, df_dev_data.shape, df_dev_data.shape)\n",
    "df_train_data.head()"
   ]
  },
  {
   "cell_type": "code",
   "execution_count": 5,
   "metadata": {
    "ExecuteTime": {
     "end_time": "2020-06-26T15:16:27.544600Z",
     "start_time": "2020-06-26T15:16:27.005356Z"
    }
   },
   "outputs": [],
   "source": [
    "train_word_lists = [eval(i) for i in df_train_data['words'].tolist()]\n",
    "train_tag_lists = [eval(i) for i in df_train_data['tags'].tolist()]\n",
    "\n",
    "dev_word_lists = [eval(i) for i in df_dev_data['words'].tolist()]\n",
    "dev_tag_lists = [eval(i) for i in df_dev_data['tags'].tolist()]\n",
    "\n",
    "test_word_lists = [eval(i) for i in df_test_data['words'].tolist()]\n",
    "test_tag_lists = [eval(i) for i in df_test_data['tags'].tolist()]\n"
   ]
  },
  {
   "cell_type": "code",
   "execution_count": 6,
   "metadata": {
    "ExecuteTime": {
     "end_time": "2020-06-26T15:16:27.626426Z",
     "start_time": "2020-06-26T15:16:27.547316Z"
    }
   },
   "outputs": [
    {
     "name": "stdout",
     "output_type": "stream",
     "text": [
      "1902 28\n"
     ]
    }
   ],
   "source": [
    "with open('./ResumeNER/word2id.json', 'r') as f:\n",
    "    word2id = json.load(f)\n",
    "with open('./ResumeNER/tag2id.json', 'r') as f:\n",
    "    tag2id = json.load(f)\n",
    "print(len(word2id), len(tag2id))\n",
    "    \n",
    "# 增加 unk，pad，<start>，<end>等字段\n",
    "word2id, tag2id = extend_maps(word2id, tag2id, for_crf=True)\n",
    "\n",
    "# 给每个句子添加 <end> 字段，测试数据不用加\n",
    "train_word_lists, train_tag_lists = prepocess_data_for_lstmcrf(train_word_lists, train_tag_lists)\n",
    "dev_word_lists, dev_tag_lists = prepocess_data_for_lstmcrf(dev_word_lists, dev_tag_lists)\n",
    "test_word_lists, test_tag_lists = prepocess_data_for_lstmcrf(test_word_lists, test_tag_lists, test=True)\n",
    "\n",
    "# 给句子进行排序，按照句子长度从小到大排序\n",
    "train_word_lists, train_tag_lists, _ = sort_by_lengths(train_word_lists, train_tag_lists)\n",
    "dev_word_lists, dev_tag_lists, _ = sort_by_lengths(dev_word_lists, dev_tag_lists)\n",
    "test_word_lists, test_tag_lists, indices = sort_by_lengths(test_word_lists, test_tag_lists)\n"
   ]
  },
  {
   "cell_type": "markdown",
   "metadata": {},
   "source": [
    "# 模型单独测试"
   ]
  },
  {
   "cell_type": "code",
   "execution_count": 7,
   "metadata": {
    "ExecuteTime": {
     "end_time": "2020-06-26T15:16:27.801712Z",
     "start_time": "2020-06-26T15:16:27.628767Z"
    }
   },
   "outputs": [
    {
     "name": "stdout",
     "output_type": "stream",
     "text": [
      "3821\n",
      "out_size 32\n",
      "torch.Size([1, 179])\n",
      "torch.Size([1, 179])\n",
      "torch.Size([1, 179, 32, 32])\n",
      "609.7691650390625\n"
     ]
    }
   ],
   "source": [
    "print(len(train_word_lists))\n",
    "batch_sents = train_word_lists[:1]\n",
    "batch_tags = train_tag_lists[:1]\n",
    "\n",
    "emb_size, hidden_size = 128, 128\n",
    "vocab_size = len(word2id)\n",
    "out_size = len(tag2id)\n",
    "print(\"out_size\", out_size)\n",
    "model = BiLSTM_CRF(vocab_size, emb_size, hidden_size, out_size)\n",
    "\n",
    "model.train()\n",
    "# 准备数据\n",
    "tensorized_sents, lengths = tensorized(batch_sents, word2id)\n",
    "print(tensorized_sents.shape)\n",
    "\n",
    "# tensorized_sents = tensorized_sents.to(self.device)\n",
    "targets, lengths = tensorized(batch_tags, tag2id)\n",
    "print(targets.shape)\n",
    "# targets = targets.to(self.device)\n",
    "\n",
    "# forward\n",
    "scores = model(tensorized_sents, lengths).to(device)\n",
    "print(scores.shape)\n",
    "# 计算损失 更新参数\n",
    "# self.optimizer.zero_grad()\n",
    "loss = cal_lstm_crf_loss(scores, targets, tag2id).to(device)\n",
    "print(loss.item())\n",
    "# loss.backward()\n",
    "# self.optimizer.step()"
   ]
  },
  {
   "cell_type": "markdown",
   "metadata": {},
   "source": [
    "# bilstm_crf 模型"
   ]
  },
  {
   "cell_type": "code",
   "execution_count": 8,
   "metadata": {
    "ExecuteTime": {
     "end_time": "2020-06-26T15:16:27.852885Z",
     "start_time": "2020-06-26T15:16:27.804044Z"
    }
   },
   "outputs": [
    {
     "name": "stdout",
     "output_type": "stream",
     "text": [
      "out_size 32\n"
     ]
    }
   ],
   "source": [
    "emb_size, hidden_size = 128, 128\n",
    "vocab_size = len(word2id)\n",
    "out_size = len(tag2id)\n",
    "print(\"out_size\", out_size)\n",
    "\n",
    "model = BiLSTM_CRF(vocab_size, emb_size, hidden_size, out_size)\n",
    "\n"
   ]
  },
  {
   "cell_type": "markdown",
   "metadata": {},
   "source": [
    "# 模型训练"
   ]
  },
  {
   "cell_type": "code",
   "execution_count": 9,
   "metadata": {
    "ExecuteTime": {
     "end_time": "2020-06-26T15:55:11.182331Z",
     "start_time": "2020-06-26T15:16:36.375141Z"
    }
   },
   "outputs": [
    {
     "name": "stdout",
     "output_type": "stream",
     "text": [
      "epoch: 0\n",
      "train loss: 23.516282858968783\n",
      "*****Checking accuracy on validation set*****\n",
      "batchNum: 14\n",
      "val_loss: 5.601794106619699\n",
      "epoch: 1\n",
      "train loss: 3.8028446165453484\n",
      "*****Checking accuracy on validation set*****\n",
      "batchNum: 14\n",
      "val_loss: 3.5273020608084544\n",
      "epoch: 2\n",
      "train loss: 1.9461650367544479\n",
      "*****Checking accuracy on validation set*****\n",
      "batchNum: 14\n",
      "val_loss: 3.2519258771623885\n",
      "epoch: 3\n",
      "train loss: 1.21913233524611\n",
      "*****Checking accuracy on validation set*****\n",
      "batchNum: 14\n",
      "val_loss: 2.889012472970145\n",
      "epoch: 4\n",
      "train loss: 0.799991511497177\n",
      "*****Checking accuracy on validation set*****\n",
      "batchNum: 14\n",
      "val_loss: 2.972699301583426\n",
      "epoch: 5\n",
      "train loss: 0.5698378747250853\n",
      "*****Checking accuracy on validation set*****\n",
      "batchNum: 14\n",
      "val_loss: 2.9491909572056363\n",
      "epoch: 6\n",
      "train loss: 0.4239474705287388\n",
      "*****Checking accuracy on validation set*****\n",
      "batchNum: 14\n",
      "val_loss: 2.8080313546316966\n",
      "epoch: 7\n",
      "train loss: 0.2543248729545529\n",
      "*****Checking accuracy on validation set*****\n",
      "batchNum: 14\n",
      "val_loss: 3.1062943594796315\n",
      "epoch: 8\n",
      "train loss: 0.14582157936416754\n",
      "*****Checking accuracy on validation set*****\n",
      "batchNum: 14\n",
      "val_loss: 3.1808062962123325\n",
      "epoch: 9\n",
      "train loss: 0.15763681876559218\n",
      "*****Checking accuracy on validation set*****\n",
      "batchNum: 14\n",
      "val_loss: 3.382190704345703\n",
      "epoch: 10\n",
      "train loss: 0.22456350246397386\n",
      "*****Checking accuracy on validation set*****\n",
      "batchNum: 14\n",
      "val_loss: 3.585198538643973\n",
      "epoch: 11\n",
      "train loss: 0.772322518484933\n",
      "*****Checking accuracy on validation set*****\n",
      "batchNum: 14\n",
      "val_loss: 3.7416845049176897\n",
      "epoch: 12\n",
      "train loss: 1.1365777023700105\n",
      "*****Checking accuracy on validation set*****\n",
      "batchNum: 14\n",
      "val_loss: 2.5857652936662947\n",
      "epoch: 13\n",
      "train loss: 0.40888162821280855\n",
      "*****Checking accuracy on validation set*****\n",
      "batchNum: 14\n",
      "val_loss: 2.3447058541434154\n",
      "epoch: 14\n",
      "train loss: 0.12861043465237657\n",
      "*****Checking accuracy on validation set*****\n",
      "batchNum: 14\n",
      "val_loss: 2.4845640999930247\n",
      "epoch: 15\n",
      "train loss: 0.06663708726898963\n",
      "*****Checking accuracy on validation set*****\n",
      "batchNum: 14\n",
      "val_loss: 2.5092784336635043\n",
      "epoch: 16\n",
      "train loss: 0.04635626528443409\n",
      "*****Checking accuracy on validation set*****\n",
      "batchNum: 14\n",
      "val_loss: 2.4984833853585378\n",
      "epoch: 17\n",
      "train loss: 0.03666109998686975\n",
      "*****Checking accuracy on validation set*****\n",
      "batchNum: 14\n",
      "val_loss: 2.548901149204799\n",
      "epoch: 18\n",
      "train loss: 0.03294760439576221\n",
      "*****Checking accuracy on validation set*****\n",
      "batchNum: 14\n",
      "val_loss: 2.5687904357910156\n",
      "epoch: 19\n",
      "train loss: 0.029330502037240677\n",
      "*****Checking accuracy on validation set*****\n",
      "batchNum: 14\n",
      "val_loss: 2.531968797956194\n",
      "epoch: 20\n",
      "train loss: 0.09633434520048254\n",
      "*****Checking accuracy on validation set*****\n",
      "batchNum: 14\n",
      "val_loss: 3.3821073259626115\n",
      "epoch: 21\n",
      "train loss: 0.832999606092437\n",
      "*****Checking accuracy on validation set*****\n",
      "batchNum: 14\n",
      "val_loss: 2.280536651611328\n",
      "epoch: 22\n",
      "train loss: 0.6672846048819918\n",
      "*****Checking accuracy on validation set*****\n",
      "batchNum: 14\n",
      "val_loss: 2.199894496372768\n",
      "epoch: 23\n",
      "train loss: 0.22994620058716847\n",
      "*****Checking accuracy on validation set*****\n",
      "batchNum: 14\n",
      "val_loss: 2.0897549220493863\n",
      "epoch: 24\n",
      "train loss: 0.20081210737468816\n",
      "*****Checking accuracy on validation set*****\n",
      "batchNum: 14\n",
      "val_loss: 2.023766108921596\n",
      "epoch: 25\n",
      "train loss: 0.15487539467691375\n",
      "*****Checking accuracy on validation set*****\n",
      "batchNum: 14\n",
      "val_loss: 2.2407242911202565\n",
      "epoch: 26\n",
      "train loss: 0.08525297020663734\n",
      "*****Checking accuracy on validation set*****\n",
      "batchNum: 14\n",
      "val_loss: 2.265077863420759\n",
      "epoch: 27\n",
      "train loss: 0.04562041338752298\n",
      "*****Checking accuracy on validation set*****\n",
      "batchNum: 14\n",
      "val_loss: 2.2884537833077565\n",
      "epoch: 28\n",
      "train loss: 0.03534393951672466\n",
      "*****Checking accuracy on validation set*****\n",
      "batchNum: 14\n",
      "val_loss: 2.2265347072056363\n",
      "epoch: 29\n",
      "train loss: 0.047969721946395746\n",
      "*****Checking accuracy on validation set*****\n",
      "batchNum: 14\n",
      "val_loss: 2.290447780064174\n",
      "epoch: 30\n",
      "train loss: 0.2804721543768875\n",
      "*****Checking accuracy on validation set*****\n",
      "batchNum: 14\n",
      "val_loss: 2.5326036725725447\n",
      "epoch: 31\n",
      "train loss: 0.4607299997025177\n",
      "*****Checking accuracy on validation set*****\n",
      "batchNum: 14\n",
      "val_loss: 2.1970307486397878\n",
      "epoch: 32\n",
      "train loss: 0.4394754682268415\n",
      "*****Checking accuracy on validation set*****\n",
      "batchNum: 14\n",
      "val_loss: 2.1163106645856584\n",
      "epoch: 33\n",
      "train loss: 0.3280976880498293\n",
      "*****Checking accuracy on validation set*****\n",
      "batchNum: 14\n",
      "val_loss: 1.8703199114118303\n",
      "epoch: 34\n",
      "train loss: 0.17297805657907694\n",
      "*****Checking accuracy on validation set*****\n",
      "batchNum: 14\n",
      "val_loss: 1.8575325012207031\n",
      "epoch: 35\n",
      "train loss: 0.15638607890666031\n",
      "*****Checking accuracy on validation set*****\n",
      "batchNum: 14\n",
      "val_loss: 2.328151157924107\n",
      "epoch: 36\n",
      "train loss: 0.1651213830258666\n",
      "*****Checking accuracy on validation set*****\n",
      "batchNum: 14\n",
      "val_loss: 1.8094466073172433\n",
      "epoch: 37\n",
      "train loss: 0.13584204281077666\n",
      "*****Checking accuracy on validation set*****\n",
      "batchNum: 14\n",
      "val_loss: 1.7167974199567522\n",
      "epoch: 38\n",
      "train loss: 0.08734887387572217\n",
      "*****Checking accuracy on validation set*****\n",
      "batchNum: 14\n",
      "val_loss: 1.857400621686663\n",
      "epoch: 39\n",
      "train loss: 0.07937900959944524\n",
      "*****Checking accuracy on validation set*****\n",
      "batchNum: 14\n",
      "val_loss: 1.8294012887137276\n",
      "epoch: 40\n",
      "train loss: 0.2911346179096639\n",
      "*****Checking accuracy on validation set*****\n",
      "batchNum: 14\n",
      "val_loss: 2.0428150721958707\n",
      "epoch: 41\n",
      "train loss: 0.37211487072856486\n",
      "*****Checking accuracy on validation set*****\n",
      "batchNum: 14\n",
      "val_loss: 2.073826381138393\n",
      "epoch: 42\n",
      "train loss: 0.3439411515949153\n",
      "*****Checking accuracy on validation set*****\n",
      "batchNum: 14\n",
      "val_loss: 1.8222040448869978\n",
      "epoch: 43\n",
      "train loss: 0.21290117151596966\n",
      "*****Checking accuracy on validation set*****\n",
      "batchNum: 14\n",
      "val_loss: 1.791175297328404\n",
      "epoch: 44\n",
      "train loss: 0.11119069972959887\n",
      "*****Checking accuracy on validation set*****\n",
      "batchNum: 14\n",
      "val_loss: 1.7620370047433036\n",
      "epoch: 45\n",
      "train loss: 0.07470475525415245\n",
      "*****Checking accuracy on validation set*****\n",
      "batchNum: 14\n",
      "val_loss: 1.7278060913085938\n",
      "epoch: 46\n",
      "train loss: 0.033692399994665834\n",
      "*****Checking accuracy on validation set*****\n",
      "batchNum: 14\n",
      "val_loss: 1.6641486031668526\n",
      "epoch: 47\n",
      "train loss: 0.02233710409212513\n",
      "*****Checking accuracy on validation set*****\n",
      "batchNum: 14\n",
      "val_loss: 1.6928629193987166\n",
      "epoch: 48\n",
      "train loss: 0.025038166206423976\n",
      "*****Checking accuracy on validation set*****\n",
      "batchNum: 14\n",
      "val_loss: 1.597017560686384\n",
      "epoch: 49\n",
      "train loss: 0.029676517518628546\n",
      "*****Checking accuracy on validation set*****\n",
      "batchNum: 14\n",
      "val_loss: 1.595923832484654\n",
      "epoch: 50\n",
      "train loss: 0.09148397365538012\n",
      "*****Checking accuracy on validation set*****\n",
      "batchNum: 14\n",
      "val_loss: 1.8527251652308874\n",
      "epoch: 51\n",
      "train loss: 0.5144665822261522\n",
      "*****Checking accuracy on validation set*****\n",
      "batchNum: 14\n",
      "val_loss: 2.1931209564208984\n",
      "epoch: 52\n",
      "train loss: 0.4974336063160616\n",
      "*****Checking accuracy on validation set*****\n",
      "batchNum: 14\n",
      "val_loss: 1.8986505780901228\n",
      "epoch: 53\n",
      "train loss: 0.22584155427307642\n",
      "*****Checking accuracy on validation set*****\n",
      "batchNum: 14\n",
      "val_loss: 1.5304936000279017\n",
      "epoch: 54\n",
      "train loss: 0.12133420415285255\n",
      "*****Checking accuracy on validation set*****\n",
      "batchNum: 14\n",
      "val_loss: 1.4177818298339844\n",
      "epoch: 55\n",
      "train loss: 0.07631096719693736\n",
      "*****Checking accuracy on validation set*****\n",
      "batchNum: 14\n",
      "val_loss: 1.5351508004324776\n",
      "epoch: 56\n",
      "train loss: 0.064559199229008\n",
      "*****Checking accuracy on validation set*****\n",
      "batchNum: 14\n",
      "val_loss: 1.5699544634137834\n",
      "epoch: 57\n",
      "train loss: 0.07141786463120404\n",
      "*****Checking accuracy on validation set*****\n",
      "batchNum: 14\n",
      "val_loss: 1.7957354954310827\n",
      "epoch: 58\n",
      "train loss: 0.08950578064477745\n",
      "*****Checking accuracy on validation set*****\n",
      "batchNum: 14\n",
      "val_loss: 1.7046361650739397\n",
      "epoch: 59\n",
      "train loss: 0.2141046283625755\n",
      "*****Checking accuracy on validation set*****\n",
      "batchNum: 14\n",
      "val_loss: 1.8816735403878349\n",
      "epoch: 60\n",
      "train loss: 0.32328004596614035\n",
      "*****Checking accuracy on validation set*****\n",
      "batchNum: 14\n",
      "val_loss: 1.9332411629813058\n",
      "epoch: 61\n",
      "train loss: 0.25356642138056396\n",
      "*****Checking accuracy on validation set*****\n",
      "batchNum: 14\n",
      "val_loss: 1.7433836800711495\n",
      "epoch: 62\n",
      "train loss: 0.23405341140362396\n",
      "*****Checking accuracy on validation set*****\n",
      "batchNum: 14\n",
      "val_loss: 2.0978366306849887\n",
      "epoch: 63\n",
      "train loss: 0.16706447441036962\n",
      "*****Checking accuracy on validation set*****\n",
      "batchNum: 14\n"
     ]
    },
    {
     "name": "stdout",
     "output_type": "stream",
     "text": [
      "val_loss: 1.9283229282924108\n",
      "epoch: 64\n",
      "train loss: 0.13995749209107472\n",
      "*****Checking accuracy on validation set*****\n",
      "batchNum: 14\n",
      "val_loss: 1.6145357404436385\n",
      "Stopping.\n",
      "Best Epoch: 54\n",
      "Best Val Loss: 1.4177818298339844\n"
     ]
    }
   ],
   "source": [
    "# %%time\n",
    "# seed_everything()\n",
    "\n",
    "batch_size = 2**5\n",
    "\n",
    "modelHandlerParams = {}\n",
    "modelHandlerParams['epoch_nums'] = 1000000\n",
    "modelHandlerParams['batch_size'] = batch_size\n",
    "modelHandlerParams['device'] = device\n",
    "modelHandlerParams['model'] = model\n",
    "modelHandlerParams['word2id'] = word2id\n",
    "modelHandlerParams['tag2id'] = tag2id\n",
    "modelHandler = ModelHandler(modelHandlerParams)\n",
    "\n",
    "model.to(device)\n",
    "\n",
    "# crf 损失函数\n",
    "loss_fn = cal_lstm_crf_loss\n",
    "# 调参地方，分别调整为0.1,0.01,0.001，最优为0.01\n",
    "optimizer = optim.Adam(model.parameters(), lr=0.01,\n",
    "                       weight_decay=0.0001) # lr sets the learning rate of the optimizer\n",
    "\n",
    "modelHandler.fit(X_train=train_word_lists, y_train=train_tag_lists, loss_fn=loss_fn, optimizer=optimizer,\n",
    "                 eval_set = (dev_word_lists, dev_tag_lists), early_stopping_rounds=10, verbose=2)"
   ]
  },
  {
   "cell_type": "code",
   "execution_count": null,
   "metadata": {
    "collapsed": true
   },
   "outputs": [],
   "source": []
  },
  {
   "cell_type": "code",
   "execution_count": null,
   "metadata": {
    "collapsed": true
   },
   "outputs": [],
   "source": []
  },
  {
   "cell_type": "code",
   "execution_count": null,
   "metadata": {
    "collapsed": true
   },
   "outputs": [],
   "source": []
  },
  {
   "cell_type": "code",
   "execution_count": null,
   "metadata": {
    "collapsed": true
   },
   "outputs": [],
   "source": []
  },
  {
   "cell_type": "code",
   "execution_count": null,
   "metadata": {
    "collapsed": true
   },
   "outputs": [],
   "source": []
  },
  {
   "cell_type": "code",
   "execution_count": null,
   "metadata": {
    "collapsed": true
   },
   "outputs": [],
   "source": []
  },
  {
   "cell_type": "code",
   "execution_count": null,
   "metadata": {
    "collapsed": true
   },
   "outputs": [],
   "source": []
  }
 ],
 "metadata": {
  "kernelspec": {
   "display_name": "Python 3",
   "language": "python",
   "name": "python3"
  },
  "language_info": {
   "codemirror_mode": {
    "name": "ipython",
    "version": 3
   },
   "file_extension": ".py",
   "mimetype": "text/x-python",
   "name": "python",
   "nbconvert_exporter": "python",
   "pygments_lexer": "ipython3",
   "version": "3.6.5"
  },
  "toc": {
   "base_numbering": 1,
   "nav_menu": {},
   "number_sections": true,
   "sideBar": true,
   "skip_h1_title": false,
   "title_cell": "Table of Contents",
   "title_sidebar": "Contents",
   "toc_cell": false,
   "toc_position": {
    "height": "calc(100% - 180px)",
    "left": "10px",
    "top": "150px",
    "width": "192px"
   },
   "toc_section_display": true,
   "toc_window_display": true
  }
 },
 "nbformat": 4,
 "nbformat_minor": 2
}
